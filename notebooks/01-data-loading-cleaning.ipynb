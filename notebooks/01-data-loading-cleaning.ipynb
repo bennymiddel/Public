{
 "cells": [
  {
   "cell_type": "code",
   "execution_count": 262,
   "metadata": {},
   "outputs": [],
   "source": [
    "import pandas as pd\n",
    "import numpy as np"
   ]
  },
  {
   "cell_type": "code",
   "execution_count": 263,
   "metadata": {},
   "outputs": [],
   "source": [
    "power_stations = pd.read_csv('../data/power_stations_clean.csv', delimiter=';', encoding='latin1')\n",
    "Consumption2020_2024 = pd.read_csv('../data/Actual_consumption_202001010000_202405250100_Quarterhour.csv',na_values='-', sep=';', encoding='latin1', thousands=',')\n",
    "Consumption2015_2020 = pd.read_csv('../data/Actual_consumption_201501010000_202001020100_Quarterhour.csv',na_values='-', delimiter=';', encoding='latin1',thousands=',')\n",
    "Generation_2020_2024 = pd.read_csv('../data/Actual_generation_202001010000_202405250100_Quarterhour.csv',na_values='-', delimiter=';', encoding='latin1',thousands=',') #, dtype={3: float, 7:float, 13:float}\n",
    "Generation_2015_2020 = pd.read_csv('../data/Actual_generation_201501010000_202001020100_Quarterhour.csv',na_values='-', sep=';', encoding='latin1',thousands=',') #, dtype={4: float, 13:float}\n",
    "Cross_Border_2020_2024 = pd.read_csv('../data/Cross-border_physical_flows_202001010000_202405250100_Quarterhour.csv',na_values='-', delimiter=';', encoding='latin1',thousands=',') #,dtype={6:float,7:float,8:float,9:float,10:float,11:float,12:float,13:float,14:float,15:float,16:float,17:float,19:float,20:float,21:float,22:float,23:float,24:float}\n",
    "Cross_Border_2015_2020 = pd.read_csv('../data/Cross-border_physical_flows_201501010000_202001020100_Quarterhour.csv',na_values='-', delimiter=';', encoding='latin1',thousands=',') #,dtype={4:float,6:float,7:float,8:float,11:float,12:float,15:float,17:float,19:float,20:float}\n",
    "Prices_2015_2020 = pd.read_csv('../data/Day-ahead_prices_201501010000_202001020100_Quarterhour.csv', delimiter=';',na_values='-', encoding='utf-8',thousands=',') #, dtype={2:float,4:float,7:float,8:float,10:float,12:float,13:float,15:float,16:float,18:float}\n",
    "Prices_2020_2024 = pd.read_csv('../data/Day-ahead_prices_202001010000_202405250100_Quarterhour.csv', delimiter=';',na_values='-', encoding='utf-8',thousands=',') #, dtype={7:float,13:float,18:float}"
   ]
  },
  {
   "cell_type": "markdown",
   "metadata": {},
   "source": [
    "### Generation_2020_2024"
   ]
  },
  {
   "cell_type": "code",
   "execution_count": 264,
   "metadata": {},
   "outputs": [],
   "source": [
    "Generation_2020_2024['Start date'] = pd.to_datetime(Generation_2020_2024['ï»¿Start date'], format='%b %d, %Y %I:%M %p')\n",
    "Generation_2020_2024['End date'] = pd.to_datetime(Generation_2020_2024['End date'], format='%b %d, %Y %I:%M %p')\n",
    "Generation_2020_2024= Generation_2020_2024.drop('ï»¿Start date', axis=1)\n",
    "Generation_2020_2024 = Generation_2020_2024[['Start date',\n",
    " 'End date',\n",
    " 'Biomass [MWh] Original resolutions',\n",
    " 'Hydropower [MWh] Original resolutions',\n",
    " 'Wind offshore [MWh] Original resolutions',\n",
    " 'Wind onshore [MWh] Original resolutions',\n",
    " 'Photovoltaics [MWh] Original resolutions',\n",
    " 'Other renewable [MWh] Original resolutions',\n",
    " 'Nuclear [MWh] Original resolutions',\n",
    " 'Lignite [MWh] Original resolutions',\n",
    " 'Hard coal [MWh] Original resolutions',\n",
    " 'Fossil gas [MWh] Original resolutions',\n",
    " 'Hydro pumped storage [MWh] Original resolutions',\n",
    " 'Other conventional [MWh] Original resolutions']]\n",
    "Generation_2020_2024 = Generation_2020_2024.fillna(0)"
   ]
  },
  {
   "cell_type": "markdown",
   "metadata": {},
   "source": [
    "### Generation_2015_2020"
   ]
  },
  {
   "cell_type": "code",
   "execution_count": 265,
   "metadata": {},
   "outputs": [],
   "source": [
    "Generation_2015_2020['Start date'] = pd.to_datetime(Generation_2015_2020['ï»¿Start date'], format='%b %d, %Y %I:%M %p')\n",
    "Generation_2015_2020['End date'] = pd.to_datetime(Generation_2015_2020['End date'], format='%b %d, %Y %I:%M %p')\n",
    "Generation_2015_2020= Generation_2015_2020.drop('ï»¿Start date', axis=1)\n",
    "Generation_2015_2020 = Generation_2015_2020[['Start date',\n",
    " 'End date',\n",
    " 'Biomass [MWh] Original resolutions',\n",
    " 'Hydropower [MWh] Original resolutions',\n",
    " 'Wind offshore [MWh] Original resolutions',\n",
    " 'Wind onshore [MWh] Original resolutions',\n",
    " 'Photovoltaics [MWh] Original resolutions',\n",
    " 'Other renewable [MWh] Original resolutions',\n",
    " 'Nuclear [MWh] Original resolutions',\n",
    " 'Lignite [MWh] Original resolutions',\n",
    " 'Hard coal [MWh] Original resolutions',\n",
    " 'Fossil gas [MWh] Original resolutions',\n",
    " 'Hydro pumped storage [MWh] Original resolutions',\n",
    " 'Other conventional [MWh] Original resolutions']]\n",
    "Generation_2015_2020 = Generation_2015_2020.fillna(0)\n",
    "Generation_2015_2020 = Generation_2015_2020[Generation_2015_2020['End date'] <= '2020-01-01 00:00:00']"
   ]
  },
  {
   "cell_type": "markdown",
   "metadata": {},
   "source": [
    "### Consumption2015_2020\n"
   ]
  },
  {
   "cell_type": "code",
   "execution_count": 266,
   "metadata": {},
   "outputs": [],
   "source": [
    "Consumption2015_2020['Start date'] = pd.to_datetime(Consumption2015_2020['ï»¿Start date'], format='%b %d, %Y %I:%M %p')\n",
    "Consumption2015_2020['End date'] = pd.to_datetime(Consumption2015_2020['End date'], format='%b %d, %Y %I:%M %p')\n",
    "Consumption2015_2020= Consumption2015_2020.drop('ï»¿Start date', axis=1)\n",
    "Consumption2015_2020 = Consumption2015_2020[Consumption2015_2020['End date'] <= '2020-01-01 00:00:00']"
   ]
  },
  {
   "cell_type": "markdown",
   "metadata": {},
   "source": [
    "### Consumption2024_2024"
   ]
  },
  {
   "cell_type": "code",
   "execution_count": 267,
   "metadata": {},
   "outputs": [],
   "source": [
    "Consumption2020_2024['Start date'] = pd.to_datetime(Consumption2020_2024['ï»¿Start date'], format='%b %d, %Y %I:%M %p')\n",
    "Consumption2020_2024['End date'] = pd.to_datetime(Consumption2020_2024['End date'], format='%b %d, %Y %I:%M %p')\n",
    "Consumption2020_2024= Consumption2020_2024.drop('ï»¿Start date', axis=1)\n",
    "Consumption2020_2024= Consumption2020_2024.fillna(0)"
   ]
  },
  {
   "cell_type": "markdown",
   "metadata": {},
   "source": [
    "### Cross_Boader_2020_2024"
   ]
  },
  {
   "cell_type": "code",
   "execution_count": 268,
   "metadata": {},
   "outputs": [],
   "source": [
    "Cross_Border_2020_2024['Start date'] = pd.to_datetime(Cross_Border_2020_2024['ï»¿Start date'], format='%b %d, %Y %I:%M %p')\n",
    "Cross_Border_2020_2024['End date'] = pd.to_datetime(Cross_Border_2020_2024['End date'], format='%b %d, %Y %I:%M %p')\n",
    "Cross_Border_2020_2024= Cross_Border_2020_2024.drop('ï»¿Start date', axis=1)\n",
    "Cross_Border_2020_2024= Cross_Border_2020_2024.fillna(0)"
   ]
  },
  {
   "cell_type": "markdown",
   "metadata": {},
   "source": [
    "### Cross_Boader_2015_2020"
   ]
  },
  {
   "cell_type": "code",
   "execution_count": 269,
   "metadata": {},
   "outputs": [],
   "source": [
    "Cross_Border_2015_2020['Start date'] = pd.to_datetime(Cross_Border_2015_2020['ï»¿Start date'], format='%b %d, %Y %I:%M %p')\n",
    "Cross_Border_2015_2020['End date'] = pd.to_datetime(Cross_Border_2015_2020['End date'], format='%b %d, %Y %I:%M %p')\n",
    "Cross_Border_2015_2020= Cross_Border_2015_2020.drop('ï»¿Start date', axis=1)\n",
    "Cross_Border_2015_2020= Cross_Border_2015_2020.fillna(0)\n",
    "Cross_Border_2015_2020 = Cross_Border_2015_2020[Cross_Border_2015_2020['End date'] <= '2020-01-01 00:00:00']"
   ]
  },
  {
   "cell_type": "markdown",
   "metadata": {},
   "source": [
    "### Prices_2015_2020"
   ]
  },
  {
   "cell_type": "code",
   "execution_count": 270,
   "metadata": {},
   "outputs": [],
   "source": [
    "Prices_2015_2020['Start date'] = pd.to_datetime(Prices_2015_2020['Start date'], format='%b %d, %Y %I:%M %p')\n",
    "Prices_2015_2020['End date'] = pd.to_datetime(Prices_2015_2020['End date'], format='%b %d, %Y %I:%M %p')\n",
    "\n",
    "Prices_2015_2020= Prices_2015_2020.fillna(0)\n",
    "Prices_2015_2020 = Prices_2015_2020[Prices_2015_2020['End date'] <= '2020-01-01 00:00:00']"
   ]
  },
  {
   "cell_type": "markdown",
   "metadata": {},
   "source": [
    "### Prices_2020_2024"
   ]
  },
  {
   "cell_type": "code",
   "execution_count": 271,
   "metadata": {},
   "outputs": [],
   "source": [
    "Prices_2020_2024['Start date'] = pd.to_datetime(Prices_2020_2024['Start date'], format='%b %d, %Y %I:%M %p')\n",
    "Prices_2020_2024['End date'] = pd.to_datetime(Prices_2020_2024['End date'], format='%b %d, %Y %I:%M %p')\n",
    "\n",
    "Prices_2020_2024= Prices_2020_2024.fillna(0)"
   ]
  },
  {
   "cell_type": "markdown",
   "metadata": {},
   "source": [
    "#### Concat all to big DataFrames "
   ]
  },
  {
   "cell_type": "code",
   "execution_count": 248,
   "metadata": {},
   "outputs": [],
   "source": [
    "Prices = pd.concat([Prices_2015_2020, Prices_2020_2024])\n",
    "Cross_Border = pd.concat([Cross_Border_2015_2020, Cross_Border_2020_2024])\n",
    "Consumption = pd.concat([Consumption2015_2020, Consumption2020_2024])\n",
    "Generation = pd.concat([Generation_2015_2020, Generation_2020_2024])\n",
    "\n"
   ]
  },
  {
   "cell_type": "code",
   "execution_count": 272,
   "metadata": {},
   "outputs": [],
   "source": [
    "Prices.to_csv('../data/Prices.csv')\n",
    "Cross_Border.to_csv('../data/Cross_Border.csv')\n",
    "Consumption.to_csv('../data/Cosumption.csv')\n",
    "Generation.to_csv('../data/Generation.csv')"
   ]
  }
 ],
 "metadata": {
  "kernelspec": {
   "display_name": "capstone_kernel",
   "language": "python",
   "name": "capstone_kernel"
  },
  "language_info": {
   "codemirror_mode": {
    "name": "ipython",
    "version": 3
   },
   "file_extension": ".py",
   "mimetype": "text/x-python",
   "name": "python",
   "nbconvert_exporter": "python",
   "pygments_lexer": "ipython3",
   "version": "3.8.19"
  },
  "orig_nbformat": 4
 },
 "nbformat": 4,
 "nbformat_minor": 2
}
